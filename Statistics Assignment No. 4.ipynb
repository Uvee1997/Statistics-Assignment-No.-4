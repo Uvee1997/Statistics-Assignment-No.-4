{
 "cells": [
  {
   "cell_type": "markdown",
   "id": "39d5d56c",
   "metadata": {},
   "source": [
    "1) Is it possible that an event is independent of itself? If so, when?\n",
    "\n",
    ":- Yes.The only event that is independent of themselves are those with probability 0 or 1. That is P(A)=0 or P(A)=1    "
   ]
  },
  {
   "cell_type": "markdown",
   "id": "2dd14384",
   "metadata": {},
   "source": [
    "2) Is it always true that if A and B are independent events, then Ac and Bc are independent events? Show that it is, or        give a counterexample.\n",
    "\n",
    ":- Yes, the events A and B are independent, so, P(A ∩ B) = P(A) P(B).\n",
    "   P(Ac∩Bc)=1−P(A∪B)\n",
    "           =1−P(A)−P(B)+P(A∩B)\n",
    "           =1−P(A)−P(B)+P(A)P(B)\n",
    "           =(1−P(A))(1−P(B))\n",
    "           =P(Ac)P(Bc).           "
   ]
  }
 ],
 "metadata": {
  "kernelspec": {
   "display_name": "Python 3 (ipykernel)",
   "language": "python",
   "name": "python3"
  },
  "language_info": {
   "codemirror_mode": {
    "name": "ipython",
    "version": 3
   },
   "file_extension": ".py",
   "mimetype": "text/x-python",
   "name": "python",
   "nbconvert_exporter": "python",
   "pygments_lexer": "ipython3",
   "version": "3.9.7"
  }
 },
 "nbformat": 4,
 "nbformat_minor": 5
}
